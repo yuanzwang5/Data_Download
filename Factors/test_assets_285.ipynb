{
 "cells": [
  {
   "cell_type": "code",
   "execution_count": null,
   "metadata": {},
   "outputs": [],
   "source": [
    "import pandas as pd\n",
    "import numpy as np\n",
    "import os\n",
    "import zipfile"
   ]
  },
  {
   "cell_type": "markdown",
   "metadata": {},
   "source": [
    "##### 1. First load all zip file and reverse to csv"
   ]
  },
  {
   "cell_type": "code",
   "execution_count": null,
   "metadata": {},
   "outputs": [],
   "source": [
    "# Extract all zip files\n",
    "for file in os.listdir():\n",
    "    if file.endswith(\".zip\"):\n",
    "        zip_ref = zipfile.ZipFile(f\"{file}\", \"r\")\n",
    "        zip_ref.extractall(\"\")\n",
    "        zip_ref.close()"
   ]
  },
  {
   "cell_type": "code",
   "execution_count": null,
   "metadata": {},
   "outputs": [],
   "source": [
    "# MKTRF\n",
    "start_year = 1927\n",
    "end_year = 2023\n",
    "\n",
    "total_lines = (end_year - start_year + 1) * 12 + 6\n",
    "\n",
    "df_mkt = pd.read_csv(\"F-F_Research_Data_Factors.CSV\", skiprows=4-1)\n",
    "df_mkt = df_mkt.iloc[0:total_lines]\n",
    "\n",
    "df_mkt.columns = ['date', 'MKTRF', 'SMB', 'HML', 'RF']\n",
    "df_mkt['date'] = df_mkt['date'].apply(lambda x: pd.Timestamp(year=int(x[:4]), month=int(x[4:]), day=1) + pd.offsets.MonthEnd())\n",
    "df_mkt[df_mkt.columns[1:]] = df_mkt[df_mkt.columns[1:]].astype(float) / 100.0\n",
    "\n",
    "df_mkt"
   ]
  },
  {
   "cell_type": "code",
   "execution_count": null,
   "metadata": {},
   "outputs": [],
   "source": [
    "# Size and book-to-market ratio\n",
    "start_year = 1927\n",
    "end_year = 2023\n",
    "\n",
    "total_lines = (end_year - start_year + 1) * 12 + 6\n",
    "\n",
    "df_me_bm = pd.read_csv(\"25_Portfolios_5x5.CSV\", skiprows=16 - 1)\n",
    "df_me_bm = df_me_bm.iloc[0:total_lines]\n",
    "\n",
    "new_colname = ['date']\n",
    "for i in range(5):\n",
    "    for j in range(5):\n",
    "        new_colname.append(f\"me{int(i+1)}_bm{int(j+1)}\")\n",
    "df_me_bm.columns = new_colname\n",
    "df_me_bm['date'] = df_me_bm['date'].apply(lambda x: pd.Timestamp(year=int(x[:4]), month=int(x[4:]), day=1) + pd.offsets.MonthEnd())\n",
    "df_me_bm[new_colname[1:]] = df_me_bm[new_colname[1:]].astype(float) / 100.0\n",
    "\n",
    "df_me_bm"
   ]
  },
  {
   "cell_type": "code",
   "execution_count": null,
   "metadata": {},
   "outputs": [],
   "source": [
    "# Size and operating profitability\n",
    "start_year = 1964\n",
    "end_year = 2023\n",
    "\n",
    "total_lines = (end_year - start_year + 1) * 12 + 6\n",
    "\n",
    "df_me_op = pd.read_csv(\"25_Portfolios_ME_OP_5x5.CSV\", skiprows=23 - 1, encoding_errors=\"ignore\")\n",
    "df_me_op = df_me_op.iloc[0:total_lines]\n",
    "\n",
    "new_colname = ['date']\n",
    "for i in range(5):\n",
    "    for j in range(5):\n",
    "        new_colname.append(f\"me{int(i+1)}_op{int(j+1)}\")\n",
    "df_me_op.columns = new_colname\n",
    "df_me_op['date'] = df_me_op['date'].apply(lambda x: pd.Timestamp(year=int(x[:4]), month=int(x[4:]), day=1) + pd.offsets.MonthEnd())\n",
    "df_me_op[new_colname[1:]] = df_me_op[new_colname[1:]].astype(float) / 100.0\n",
    "\n",
    "df_me_op"
   ]
  },
  {
   "cell_type": "code",
   "execution_count": null,
   "metadata": {},
   "outputs": [],
   "source": [
    "# Size and investment\n",
    "start_year = 1964\n",
    "end_year = 2023\n",
    "\n",
    "total_lines = (end_year - start_year + 1) * 12 + 6\n",
    "\n",
    "df_me_inv = pd.read_csv(\"25_Portfolios_ME_INV_5x5.CSV\", skiprows=17 - 1, encoding_errors=\"ignore\")\n",
    "df_me_inv = df_me_inv.iloc[0:total_lines]\n",
    "\n",
    "new_colname = ['date']\n",
    "for i in range(5):\n",
    "    for j in range(5):\n",
    "        new_colname.append(f\"me{int(i+1)}_inv{int(j+1)}\")\n",
    "df_me_inv.columns = new_colname\n",
    "df_me_inv['date'] = df_me_inv['date'].apply(lambda x: pd.Timestamp(year=int(x[:4]), month=int(x[4:]), day=1) + pd.offsets.MonthEnd())\n",
    "df_me_inv[new_colname[1:]] = df_me_inv[new_colname[1:]].astype(float) / 100.0\n",
    "\n",
    "df_me_inv"
   ]
  },
  {
   "cell_type": "code",
   "execution_count": null,
   "metadata": {},
   "outputs": [],
   "source": [
    "# Size and momentum\n",
    "start_year = 1927\n",
    "end_year = 2023\n",
    "\n",
    "total_lines = (end_year - start_year + 1) * 12\n",
    "\n",
    "df_me_mom = pd.read_csv(\"25_Portfolios_ME_Prior_12_2.CSV\", skiprows=12-1)\n",
    "df_me_mom = df_me_mom.iloc[0:total_lines]\n",
    "\n",
    "new_colname = ['date']\n",
    "for i in range(5):\n",
    "    for j in range(5):\n",
    "        new_colname.append(f\"me{int(i+1)}_mom{int(j+1)}\")\n",
    "df_me_mom.columns = new_colname\n",
    "df_me_mom['date'] = df_me_mom['date'].apply(lambda x: pd.Timestamp(year=int(x[:4]), month=int(x[4:]), day=1) + pd.offsets.MonthEnd())\n",
    "df_me_mom[new_colname[1:]] = df_me_mom[new_colname[1:]].astype(float) / 100.0\n",
    "\n",
    "df_me_mom"
   ]
  },
  {
   "cell_type": "code",
   "execution_count": null,
   "metadata": {},
   "outputs": [],
   "source": [
    "# Size and market beta\n",
    "start_year = 1964\n",
    "end_year = 2023\n",
    "\n",
    "total_lines = (end_year - start_year + 1) * 12 + 6\n",
    "\n",
    "df_me_beta = pd.read_csv(\"25_Portfolios_ME_BETA_5x5.csv\", skiprows=17-1)\n",
    "df_me_beta = df_me_beta.iloc[0:total_lines]\n",
    "\n",
    "new_colname = ['date']\n",
    "for i in range(5):\n",
    "    for j in range(5):\n",
    "        new_colname.append(f\"me{int(i+1)}_beta{int(j+1)}\")\n",
    "df_me_beta.columns = new_colname\n",
    "df_me_beta['date'] = df_me_beta['date'].apply(lambda x: pd.Timestamp(year=int(x[:4]), month=int(x[4:]), day=1) + pd.offsets.MonthEnd())\n",
    "df_me_beta[new_colname[1:]] = df_me_beta[new_colname[1:]].astype(float) / 100.0\n",
    "\n",
    "df_me_beta"
   ]
  },
  {
   "cell_type": "code",
   "execution_count": null,
   "metadata": {},
   "outputs": [],
   "source": [
    "# Size and short-term reversal\n",
    "start_year = 1927\n",
    "end_year = 2023\n",
    "\n",
    "total_lines = (end_year - start_year + 1) * 12 + 11\n",
    "\n",
    "df_me_str = pd.read_csv(\"25_Portfolios_ME_Prior_1_0.CSV\", skiprows=12-1)\n",
    "df_me_str = df_me_str.iloc[0:total_lines]\n",
    "\n",
    "new_colname = ['date']\n",
    "for i in range(5):\n",
    "    for j in range(5):\n",
    "        new_colname.append(f\"me{int(i+1)}_str{int(j+1)}\")\n",
    "df_me_str.columns= new_colname\n",
    "df_me_str['date'] = df_me_str['date'].apply(lambda x: pd.Timestamp(year=int(x[:4]), month=int(x[4:]), day=1) + pd.offsets.MonthEnd())\n",
    "df_me_str[new_colname[1:]] = df_me_str[new_colname[1:]].astype(float) / 100.0\n",
    "\n",
    "df_me_str"
   ]
  },
  {
   "cell_type": "code",
   "execution_count": null,
   "metadata": {},
   "outputs": [],
   "source": [
    "# Size and long-term reversal\n",
    "start_year = 1931\n",
    "end_year = 2023\n",
    "\n",
    "total_lines = (end_year - start_year + 1) * 12\n",
    "\n",
    "df_me_ltr = pd.read_csv(\"25_Portfolios_ME_Prior_60_13.CSV\", skiprows=12-1)\n",
    "df_me_ltr = df_me_ltr.iloc[0:total_lines]\n",
    "\n",
    "new_colname = ['date']\n",
    "for i in range(5):\n",
    "    for j in range(5):\n",
    "        new_colname.append(f\"me{int(i+1)}_ltr{int(j+1)}\")\n",
    "df_me_ltr.columns= new_colname\n",
    "df_me_ltr['date'] = df_me_ltr['date'].apply(lambda x: pd.Timestamp(year=int(x[:4]), month=int(x[4:]), day=1) + pd.offsets.MonthEnd())\n",
    "df_me_ltr[new_colname[1:]] = df_me_ltr[new_colname[1:]].astype(float) / 100.0\n",
    "\n",
    "df_me_ltr"
   ]
  },
  {
   "cell_type": "code",
   "execution_count": null,
   "metadata": {},
   "outputs": [],
   "source": [
    "# Size and variance\n",
    "start_year = 1964\n",
    "end_year = 2023\n",
    "\n",
    "total_lines = (end_year - start_year + 1) * 12 + 6\n",
    "\n",
    "df_me_var = pd.read_csv(\"25_Portfolios_ME_VAR_5x5.csv\", skiprows=20-1)\n",
    "df_me_var = df_me_var.iloc[0:total_lines]\n",
    "\n",
    "new_colname = ['date']\n",
    "for i in range(5):\n",
    "    for j in range(5):\n",
    "        new_colname.append(f\"me{int(i+1)}_var{int(j+1)}\")\n",
    "df_me_var.columns= new_colname\n",
    "df_me_var['date'] = df_me_var['date'].apply(lambda x: pd.Timestamp(year=int(x[:4]), month=int(x[4:]), day=1) + pd.offsets.MonthEnd())\n",
    "df_me_var[new_colname[1:]] = df_me_var[new_colname[1:]].astype(float) / 100.0\n",
    "\n",
    "df_me_var"
   ]
  },
  {
   "cell_type": "code",
   "execution_count": null,
   "metadata": {},
   "outputs": [],
   "source": [
    "# Size and residual variance\n",
    "start_year = 1964\n",
    "end_year = 2023\n",
    "\n",
    "total_lines = (end_year - start_year + 1) * 12 + 6\n",
    "\n",
    "df_me_resvar = pd.read_csv(\"25_Portfolios_ME_RESVAR_5x5.csv\", skiprows=20-1)\n",
    "df_me_resvar = df_me_resvar.iloc[0:total_lines]\n",
    "\n",
    "new_colname = ['date']\n",
    "for i in range(5):\n",
    "    for j in range(5):\n",
    "        new_colname.append(f\"me{int(i+1)}_resvar{int(j+1)}\")\n",
    "df_me_resvar.columns= new_colname\n",
    "df_me_resvar['date'] = df_me_resvar['date'].apply(lambda x: pd.Timestamp(year=int(x[:4]), month=int(x[4:]), day=1) + pd.offsets.MonthEnd())\n",
    "df_me_resvar[new_colname[1:]] = df_me_resvar[new_colname[1:]].astype(float) / 100.0\n",
    "\n",
    "df_me_resvar"
   ]
  },
  {
   "cell_type": "code",
   "execution_count": null,
   "metadata": {},
   "outputs": [],
   "source": [
    "# Size and net issuance\n",
    "start_year = 1964\n",
    "end_year = 2023\n",
    "\n",
    "total_lines = (end_year - start_year + 1) * 12 + 6\n",
    "\n",
    "df_me_ni = pd.read_csv(\"25_Portfolios_ME_NI_5x5.csv\", skiprows=19-1)\n",
    "df_me_ni = df_me_ni.iloc[0:total_lines]\n",
    "\n",
    "new_colname = ['date']\n",
    "for i in range(5):\n",
    "    for j in range(7):\n",
    "        new_colname.append(f\"me{int(i+1)}_ni{int(j-1)}\")\n",
    "df_me_ni.columns= new_colname\n",
    "df_me_ni['date'] = df_me_ni['date'].apply(lambda x: pd.Timestamp(year=int(x[:4]), month=int(x[4:]), day=1) + pd.offsets.MonthEnd())\n",
    "df_me_ni[new_colname[1:]] = df_me_ni[new_colname[1:]].astype(float) / 100.0\n",
    "\n",
    "df_me_ni"
   ]
  },
  {
   "cell_type": "code",
   "execution_count": null,
   "metadata": {},
   "outputs": [],
   "source": [
    "# Size and accruals\n",
    "start_year = 1964\n",
    "end_year = 2023\n",
    "\n",
    "total_lines = (end_year - start_year + 1) * 12 + 6\n",
    "\n",
    "df_me_ac = pd.read_csv(\"25_Portfolios_ME_AC_5x5.csv\", skiprows=19-1)\n",
    "df_me_ac = df_me_ac.iloc[0:total_lines]\n",
    "\n",
    "new_colname = ['date']\n",
    "for i in range(5):\n",
    "    for j in range(5):\n",
    "        new_colname.append(f\"me{int(i+1)}_ac{int(j+1)}\")\n",
    "df_me_ac.columns= new_colname\n",
    "df_me_ac['date'] = df_me_ac['date'].apply(lambda x: pd.Timestamp(year=int(x[:4]), month=int(x[4:]), day=1) + pd.offsets.MonthEnd())\n",
    "df_me_ac[new_colname[1:]] = df_me_ac[new_colname[1:]].astype(float) / 100.0\n",
    "\n",
    "df_me_ac"
   ]
  },
  {
   "cell_type": "code",
   "execution_count": null,
   "metadata": {},
   "outputs": [],
   "source": []
  },
  {
   "cell_type": "markdown",
   "metadata": {},
   "source": [
    "##### 2. Second merge all of the data together and transform to a panel dataset"
   ]
  },
  {
   "cell_type": "code",
   "execution_count": null,
   "metadata": {},
   "outputs": [],
   "source": [
    "wait_merge_list = [df_me_bm, df_me_op, df_me_inv, df_me_mom, df_me_beta, df_me_str, df_me_ltr, df_me_var, df_me_resvar, df_me_ni, df_me_ac]\n",
    "\n",
    "df_merge = wait_merge_list[0]\n",
    "\n",
    "for df in wait_merge_list[1:]:\n",
    "    df_merge = df_merge.merge(df, on=['date'], how='inner')\n",
    "\n",
    "df_final = df_merge.melt(id_vars='date', var_name='assets', value_name='port_ret')\n",
    "df_final = df_final.merge(df_mkt[['date','MKTRF','RF']])\n",
    "df_final['port_ret'] = df_final['port_ret'] - df_final['RF']\n",
    "df_final.to_csv(\"test_assets_285.csv\", index=False, encoding=\"utf_8_sig\")\n",
    "df_final"
   ]
  },
  {
   "cell_type": "code",
   "execution_count": null,
   "metadata": {},
   "outputs": [],
   "source": []
  }
 ],
 "metadata": {
  "kernelspec": {
   "display_name": "base",
   "language": "python",
   "name": "python3"
  },
  "language_info": {
   "codemirror_mode": {
    "name": "ipython",
    "version": 3
   },
   "file_extension": ".py",
   "mimetype": "text/x-python",
   "name": "python",
   "nbconvert_exporter": "python",
   "pygments_lexer": "ipython3",
   "version": "3.10.12"
  }
 },
 "nbformat": 4,
 "nbformat_minor": 2
}
